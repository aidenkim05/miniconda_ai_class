{
 "cells": [
  {
   "cell_type": "markdown",
   "id": "8ef661a6-6bdf-4de0-ae60-23613f857dc9",
   "metadata": {},
   "source": [
    "- to load video;"
   ]
  },
  {
   "cell_type": "code",
   "execution_count": 1,
   "id": "b1fd37cd-0762-436f-a178-652c0d0d53fc",
   "metadata": {},
   "outputs": [],
   "source": [
    "\n",
    "\n",
    "#to show videos;\n",
    "import cv2    #opencv-python\n",
    "cap = cv2.VideoCapture('fall.mp4')\n",
    "\n",
    "while cap.isOpened: \n",
    "    ret, frame = cap.read()\n",
    "    if not ret: \n",
    "        break\n",
    "    \n",
    "    cv2.imshow('video', frame)\n",
    "    if cv2.waitKey(12) & 0xff == ord('q'): \n",
    "        break\n",
    "\n",
    "cap.release()\n",
    "cv2.destroyAllWindows()\n"
   ]
  },
  {
   "cell_type": "markdown",
   "id": "865e83a7-2c8e-40e1-baa5-8dca0f8b1f4a",
   "metadata": {},
   "source": [
    "- to use mediapipe to capture skeleton;"
   ]
  },
  {
   "cell_type": "code",
   "execution_count": 5,
   "id": "0bccdb87-b33a-494e-b031-6ac7c70d1244",
   "metadata": {},
   "outputs": [],
   "source": [
    "import cv2\n",
    "import mediapipe as mp\n",
    "\n",
    "\n",
    "#to get skeletons;\n",
    "mp_pose = mp.solutions.pose\n",
    "pose = mp_pose.Pose()\n",
    "\n",
    "#to draw lines to connect skeletons;\n",
    "mp_draw = mp.solutions.drawing_utils\n",
    "\n",
    "\n",
    "cap = cv2.VideoCapture('fall.mp4')\n",
    "\n",
    "\n",
    "while cap.isOpened:\n",
    "    ret, frame = cap.read()\n",
    "    if not ret:\n",
    "        break\n",
    "\n",
    "    img_rgb = cv2.cvtColor(frame, cv2.COLOR_BGR2RGB)\n",
    "\n",
    "\n",
    "    result = pose.process(img_rgb)\n",
    "    if result.pose_landmarks:\n",
    "        mp_draw.draw_landmarks(frame, result.pose_landmarks, mp_pose.POSE_CONNECTIONS)\n",
    "    \n",
    "    cv2.imshow('frame', frame)\n",
    "    if cv2.waitKey(12) & 0xff == ord('q'): \n",
    "        break\n",
    "\n",
    "\n",
    " \n",
    "cv2.destroyAllWindows()     \n"
   ]
  }
 ],
 "metadata": {
  "kernelspec": {
   "display_name": "Python 3 (ipykernel)",
   "language": "python",
   "name": "python3"
  },
  "language_info": {
   "codemirror_mode": {
    "name": "ipython",
    "version": 3
   },
   "file_extension": ".py",
   "mimetype": "text/x-python",
   "name": "python",
   "nbconvert_exporter": "python",
   "pygments_lexer": "ipython3",
   "version": "3.9.23"
  }
 },
 "nbformat": 4,
 "nbformat_minor": 5
}
