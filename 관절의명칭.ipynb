{
 "cells": [
  {
   "cell_type": "markdown",
   "id": "e8d2c499-e874-46ba-9968-960e34067235",
   "metadata": {},
   "source": [
    "관절의 명칭"
   ]
  },
  {
   "cell_type": "markdown",
   "id": "a1ef16cc-538b-4b27-a88b-a5381899da55",
   "metadata": {},
   "source": [
    "\n",
    "        #to obtain x,y,z of skeletons;\n",
    "        nose = landmarks[mp_pose.PoseLandmark.NOSE.value]\n",
    "        left_hip = landmarks[mp_pose.PoseLandmark.LEFT_HIP.value]\n",
    "        right_hip = landmarks[mp_pose.PoseLandmark.RIGHT_HIP.value]\n",
    "        left_shoulder = landmarks[mp_pose.PoseLandmark.LEFT_SHOULDER.value]\n",
    "        right_shoulder = landmarks[mp_pose.PoseLandmark.RIGHT_SHOULDER.value]\n",
    "        left_elbow = landmarks[mp_pose.PoseLandmark.LEFT_ELBOW.value]\n",
    "        right_elbow = landmarks[mp_pose.PoseLandmark.RIGHT_ELBOW.value]\n",
    "        left_wrist = landmarks[mp_pose.PoseLandmark.LEFT_WRIST.value]\n",
    "        right_wrist = landmarks[mp_pose.PoseLandmark.RIGHT_WRIST.value]\n",
    "        left_knee = landmarks[mp_pose.PoseLandmark.LEFT_KNEE.value]\n",
    "        right_knee = landmarks[mp_pose.PoseLandmark.RIGHT_KNEE.value]\n",
    "        left_ankle = landmarks[mp_pose.PoseLandmark.LEFT_ANKLE.value]\n",
    "        right_ankle = landmarks[mp_pose.PoseLandmark.RIGHT_ANKLE.value]\n",
    "        left_heel = landmarks[mp_pose.PoseLandmark.LEFT_HEEL.value]\n",
    "        right_heel = landmarks[mp_pose.PoseLandmark.RIGHT_HEEL.value]\n",
    "        left_foot_index = landmarks[mp_pose.PoseLandmark.LEFT_FOOT_INDEX.value]\n",
    "        right_foot_index = landmarks[mp_pose.PoseLandmark.RIGHT_FOOT_INDEX.value]\n",
    "        left_pinky = landmarks[mp_pose.PoseLandmark.LEFT_PINKY.value]\n",
    "        right_pinky = landmarks[mp_pose.PoseLandmark.RIGHT_PINKY.value]\n",
    "        left_index = landmarks[mp_pose.PoseLandmark.LEFT_INDEX.value]\n",
    "        right_index = landmarks[mp_pose.PoseLandmark.RIGHT_INDEX.value]\n",
    "        left_thumb = landmarks[mp_pose.PoseLandmark.LEFT_THUMB.value]\n",
    "        right_thumb = landmarks[mp_pose.PoseLandmark.RIGHT_THUMB.value]\n"
   ]
  }
 ],
 "metadata": {
  "kernelspec": {
   "display_name": "Python 3 (ipykernel)",
   "language": "python",
   "name": "python3"
  },
  "language_info": {
   "codemirror_mode": {
    "name": "ipython",
    "version": 3
   },
   "file_extension": ".py",
   "mimetype": "text/x-python",
   "name": "python",
   "nbconvert_exporter": "python",
   "pygments_lexer": "ipython3",
   "version": "3.9.23"
  }
 },
 "nbformat": 4,
 "nbformat_minor": 5
}
