{
 "cells": [
  {
   "cell_type": "code",
   "execution_count": 1,
   "id": "66270466-24bd-4823-865f-b59645b28fa1",
   "metadata": {},
   "outputs": [],
   "source": [
    "import cv2"
   ]
  },
  {
   "cell_type": "code",
   "execution_count": 3,
   "id": "a7842314-2744-4ec8-a72b-42ad0a0e2ac6",
   "metadata": {},
   "outputs": [],
   "source": [
    "#to read images;\n",
    "\n",
    "import cv2\n",
    "\n",
    "# 이미지 읽기\n",
    "img = cv2.imread('lena.png')\n",
    "\n",
    "while True:\n",
    "    # 이미지 표시\n",
    "    cv2.imshow('lenna', img)\n",
    "    \n",
    "    # 1ms 동안 키 입력 대기\n",
    "    if cv2.waitKey(1) & 0xFF == ord('q'):\n",
    "        break\n",
    "\n",
    "# 창 닫기\n",
    "cv2.destroyAllWindows()"
   ]
  },
  {
   "cell_type": "code",
   "execution_count": 4,
   "id": "27161f42-b207-4d8e-853a-ca100d4126ba",
   "metadata": {},
   "outputs": [],
   "source": [
    "#to show videos;\n",
    "\n",
    "import cv2\n",
    "\n",
    "cap = cv2.VideoCapture('fall.mp4')\n",
    "\n",
    "while cap.isOpened:\n",
    "    ret, frame = cap.read()\n",
    "    if not ret:\n",
    "        break\n",
    "\n",
    "    cv2.imshow('video', frame)\n",
    "\n",
    "    if cv2.waitKey(25) & 0xff == ord('q'):\n",
    "        break\n",
    "    \n",
    "\n",
    "cap.release()\n",
    "cv2.destroyAllWindows()"
   ]
  },
  {
   "cell_type": "code",
   "execution_count": null,
   "id": "9095de66-d34f-455a-965d-a192bb7ecd16",
   "metadata": {},
   "outputs": [],
   "source": []
  }
 ],
 "metadata": {
  "kernelspec": {
   "display_name": "Python 3 (ipykernel)",
   "language": "python",
   "name": "python3"
  },
  "language_info": {
   "codemirror_mode": {
    "name": "ipython",
    "version": 3
   },
   "file_extension": ".py",
   "mimetype": "text/x-python",
   "name": "python",
   "nbconvert_exporter": "python",
   "pygments_lexer": "ipython3",
   "version": "3.9.23"
  }
 },
 "nbformat": 4,
 "nbformat_minor": 5
}
