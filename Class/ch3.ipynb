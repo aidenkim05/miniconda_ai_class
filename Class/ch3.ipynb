{
 "cells": [
  {
   "cell_type": "markdown",
   "id": "3e0f6670-0636-4838-b51b-86934bf46cc7",
   "metadata": {},
   "source": [
    "- to calculate falls probability using bayesian rule;"
   ]
  },
  {
   "cell_type": "code",
   "execution_count": 5,
   "id": "738c640e-d8dc-42e3-9f76-7f1b9787fe94",
   "metadata": {},
   "outputs": [
    {
     "name": "stdin",
     "output_type": "stream",
     "text": [
      "허리 각도를 입력하세요 (deg):  40\n"
     ]
    },
    {
     "name": "stdout",
     "output_type": "stream",
     "text": [
      "허리 각도=40.0° → 낙상확률=0.300 → 판정: NO FALL\n"
     ]
    }
   ],
   "source": [
    "# Prior\n",
    "#prior_fall = 0.01\n",
    "#prior_nofall = 0.99\n",
    "prior_fall = 0.5\n",
    "prior_nofall = 0.5\n",
    "\n",
    "\n",
    "# 구간별 우도\n",
    "def likelihood(angle, cls):\n",
    "    if angle < 30:\n",
    "        return 0.05 if cls==\"Fall\" else 0.95\n",
    "    elif angle < 45:\n",
    "        return 0.3 if cls==\"Fall\" else 0.7\n",
    "    elif angle < 60:\n",
    "        return 0.6 if cls==\"Fall\" else 0.4\n",
    "    else:  # 60 이상\n",
    "        return 0.9 if cls==\"Fall\" else 0.1\n",
    "\n",
    "# Posterior 계산\n",
    "def posterior(angle):\n",
    "    l_fall = likelihood(angle, \"Fall\")\n",
    "    l_nofall = likelihood(angle, \"NoFall\")\n",
    "    num_f = l_fall * prior_fall\n",
    "    num_nf = l_nofall * prior_nofall\n",
    "\t\n",
    "    return num_f / (num_f + num_nf)\n",
    "\n",
    "# --- 테스트 ---\n",
    "hip_angle = float(input(\"허리 각도를 입력하세요 (deg): \"))\n",
    "p_fall = posterior(hip_angle)\n",
    "label = \"FALL\" if p_fall > 0.5 else \"NO FALL\"\n",
    "print(f\"허리 각도={hip_angle}° → 낙상확률={p_fall:.3f} → 판정: {label}\")"
   ]
  },
  {
   "cell_type": "markdown",
   "id": "df125395-5234-4ad7-937f-67ca3182e581",
   "metadata": {},
   "source": [
    "- quiz; 동영상에서 사람의 허리각도를 추출하고, 베이즈규칙을 이용하여 낙상확률을 계산하라 "
   ]
  },
  {
   "cell_type": "code",
   "execution_count": null,
   "id": "1566b63e-86ee-432b-bd11-8786cf58bb00",
   "metadata": {},
   "outputs": [],
   "source": []
  }
 ],
 "metadata": {
  "kernelspec": {
   "display_name": "Python 3 (ipykernel)",
   "language": "python",
   "name": "python3"
  },
  "language_info": {
   "codemirror_mode": {
    "name": "ipython",
    "version": 3
   },
   "file_extension": ".py",
   "mimetype": "text/x-python",
   "name": "python",
   "nbconvert_exporter": "python",
   "pygments_lexer": "ipython3",
   "version": "3.9.23"
  }
 },
 "nbformat": 4,
 "nbformat_minor": 5
}
